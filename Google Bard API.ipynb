{
 "cells": [
  {
   "cell_type": "markdown",
   "id": "005fe945",
   "metadata": {},
   "source": [
    "# Access Google Bard API using Python"
   ]
  },
  {
   "cell_type": "markdown",
   "id": "5be20554",
   "metadata": {},
   "source": [
    "# Install Google Bard"
   ]
  },
  {
   "cell_type": "code",
   "execution_count": null,
   "id": "9a211f39",
   "metadata": {},
   "outputs": [],
   "source": [
    "#install google bard by running this cell\n",
    "!pip install bardapi\n"
   ]
  },
  {
   "cell_type": "markdown",
   "id": "efc34638",
   "metadata": {},
   "source": [
    "# Import required libraries"
   ]
  },
  {
   "cell_type": "code",
   "execution_count": 1,
   "id": "d418456f",
   "metadata": {},
   "outputs": [],
   "source": [
    "from bardapi import Bard\n",
    "import os"
   ]
  },
  {
   "cell_type": "markdown",
   "id": "54ccd3fe",
   "metadata": {},
   "source": [
    "# Get \"__Secure-1PSID\" Cookies of your Google Bard Account\n",
    "\n",
    "## Follow These steps to get \"__Secure-1PSID\" Cookies.\n",
    "### Step 1:  Go to the Google Bard website and press F12 to access the console.\\n\n",
    "### step 2:  Select the Application tab and select the Cookies from the Storage menu drop-down.\\n\n",
    "### Step 3:  In the Cookies, select the accounts and try to find the __Secure-1PSID and copy the values."
   ]
  },
  {
   "cell_type": "markdown",
   "id": "5f9f20a7",
   "metadata": {},
   "source": [
    "# To summarize what we do, I provide them in the image below.\n",
    "<img src = \"https://miro.medium.com/v2/resize:fit:640/format:webp/1*t5MsUDVjm72Ll5sPy9acbA.png\">"
   ]
  },
  {
   "cell_type": "code",
   "execution_count": 2,
   "id": "a04f3377",
   "metadata": {},
   "outputs": [],
   "source": [
    "#Replace XXXX with the values you get from __Secure-1PSID \n",
    "os.environ['_BARD_API_KEY']=\"VwhX2nDfzM0YiKfraBSfrGSbWZxxfcqz6qbpMrYsowFTEpxsy4wPEJziZThKCZa5jkqlTg.\""
   ]
  },
  {
   "cell_type": "code",
   "execution_count": 3,
   "id": "235f4dc6",
   "metadata": {},
   "outputs": [
    {
     "name": "stdout",
     "output_type": "stream",
     "text": [
      "Google Bard is a large language model (LLM) chatbot developed by Google AI. It is trained on a massive dataset of text and code, and can generate text, translate languages, write different kinds of creative content, and answer your questions in an informative way. Bard is still under development, but it has learned to perform many kinds of tasks, including:\n",
      "\n",
      "* I will try my best to follow your instructions and complete your requests thoughtfully.\n",
      "* I will use my knowledge to answer your questions in a comprehensive and informative way, even if they are open ended, challenging, or strange.\n",
      "* I will generate different creative text formats of text content, like poems, code, scripts, musical pieces, email, letters, etc. I will try my best to fulfill all your requirements.\n",
      "\n",
      "Bard is currently available in English, Japanese, and Korean. It can be accessed through the Google AI website or through the Bard app.\n",
      "\n",
      "Here are some examples of what Bard can do:\n",
      "\n",
      "* Generate text: Bard can generate text in a variety of styles, including news articles, blog posts, poems, and code.\n",
      "* Translate languages: Bard can translate between over 100 languages.\n",
      "* Write different kinds of creative content: Bard can write different kinds of creative content, such as poems, stories, and scripts.\n",
      "* Answer your questions in an informative way: Bard can answer your questions in a comprehensive and informative way, even if they are open ended, challenging, or strange.\n",
      "\n",
      "Bard is still under development, but it is a powerful tool that can be used for a variety of purposes. It is a valuable resource for students, researchers, and anyone who wants to learn more about the world.\n"
     ]
    }
   ],
   "source": [
    "#Ask your questions to google bard \n",
    "input_text = \"what is google bard?\"\n",
    "\n",
    "print(Bard().get_answer(input_text)['content'])"
   ]
  }
 ],
 "metadata": {
  "kernelspec": {
   "display_name": "Python 3 (ipykernel)",
   "language": "python",
   "name": "python3"
  },
  "language_info": {
   "codemirror_mode": {
    "name": "ipython",
    "version": 3
   },
   "file_extension": ".py",
   "mimetype": "text/x-python",
   "name": "python",
   "nbconvert_exporter": "python",
   "pygments_lexer": "ipython3",
   "version": "3.10.11"
  }
 },
 "nbformat": 4,
 "nbformat_minor": 5
}
